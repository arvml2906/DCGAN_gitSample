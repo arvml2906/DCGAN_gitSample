{
  "nbformat": 4,
  "nbformat_minor": 0,
  "metadata": {
    "colab": {
      "provenance": [],
      "gpuType": "T4"
    },
    "kernelspec": {
      "name": "python3",
      "display_name": "Python 3"
    },
    "language_info": {
      "name": "python"
    },
    "accelerator": "GPU"
  },
  "cells": [
    {
      "cell_type": "code",
      "execution_count": 1,
      "metadata": {
        "colab": {
          "base_uri": "https://localhost:8080/"
        },
        "id": "UnSsshVlTQ4b",
        "outputId": "7133577e-3401-4bd0-d202-a34b021b33b7"
      },
      "outputs": [
        {
          "output_type": "stream",
          "name": "stdout",
          "text": [
            "Requirement already satisfied: torch in /usr/local/lib/python3.10/dist-packages (2.0.1+cu118)\n",
            "Requirement already satisfied: torchvision in /usr/local/lib/python3.10/dist-packages (0.15.2+cu118)\n",
            "Requirement already satisfied: filelock in /usr/local/lib/python3.10/dist-packages (from torch) (3.12.2)\n",
            "Requirement already satisfied: typing-extensions in /usr/local/lib/python3.10/dist-packages (from torch) (4.7.1)\n",
            "Requirement already satisfied: sympy in /usr/local/lib/python3.10/dist-packages (from torch) (1.11.1)\n",
            "Requirement already satisfied: networkx in /usr/local/lib/python3.10/dist-packages (from torch) (3.1)\n",
            "Requirement already satisfied: jinja2 in /usr/local/lib/python3.10/dist-packages (from torch) (3.1.2)\n",
            "Requirement already satisfied: triton==2.0.0 in /usr/local/lib/python3.10/dist-packages (from torch) (2.0.0)\n",
            "Requirement already satisfied: cmake in /usr/local/lib/python3.10/dist-packages (from triton==2.0.0->torch) (3.25.2)\n",
            "Requirement already satisfied: lit in /usr/local/lib/python3.10/dist-packages (from triton==2.0.0->torch) (16.0.6)\n",
            "Requirement already satisfied: numpy in /usr/local/lib/python3.10/dist-packages (from torchvision) (1.22.4)\n",
            "Requirement already satisfied: requests in /usr/local/lib/python3.10/dist-packages (from torchvision) (2.27.1)\n",
            "Requirement already satisfied: pillow!=8.3.*,>=5.3.0 in /usr/local/lib/python3.10/dist-packages (from torchvision) (8.4.0)\n",
            "Requirement already satisfied: MarkupSafe>=2.0 in /usr/local/lib/python3.10/dist-packages (from jinja2->torch) (2.1.3)\n",
            "Requirement already satisfied: urllib3<1.27,>=1.21.1 in /usr/local/lib/python3.10/dist-packages (from requests->torchvision) (1.26.16)\n",
            "Requirement already satisfied: certifi>=2017.4.17 in /usr/local/lib/python3.10/dist-packages (from requests->torchvision) (2023.5.7)\n",
            "Requirement already satisfied: charset-normalizer~=2.0.0 in /usr/local/lib/python3.10/dist-packages (from requests->torchvision) (2.0.12)\n",
            "Requirement already satisfied: idna<4,>=2.5 in /usr/local/lib/python3.10/dist-packages (from requests->torchvision) (3.4)\n",
            "Requirement already satisfied: mpmath>=0.19 in /usr/local/lib/python3.10/dist-packages (from sympy->torch) (1.3.0)\n"
          ]
        }
      ],
      "source": [
        "!pip install torch torchvision"
      ]
    },
    {
      "cell_type": "markdown",
      "source": [
        "**Allowing Access to Google Drive**\n"
      ],
      "metadata": {
        "id": "byC_CdRMUBmA"
      }
    },
    {
      "cell_type": "code",
      "source": [
        "from google.colab import drive\n",
        "drive.mount('/content/drive')"
      ],
      "metadata": {
        "colab": {
          "base_uri": "https://localhost:8080/"
        },
        "id": "eMSZfMLKTrUt",
        "outputId": "66fbc9e6-8de5-4392-e245-0b9015ff9b4d"
      },
      "execution_count": 2,
      "outputs": [
        {
          "output_type": "stream",
          "name": "stdout",
          "text": [
            "Mounted at /content/drive\n"
          ]
        }
      ]
    },
    {
      "cell_type": "code",
      "source": [
        "!unzip -q \"drive/My Drive/ZIP_FILES/archive.zip\" -d \"Dataset\" | head -n 5\n"
      ],
      "metadata": {
        "id": "m31yKlFlWdqy"
      },
      "execution_count": 3,
      "outputs": []
    },
    {
      "cell_type": "markdown",
      "source": [
        "# **Importing libraries**"
      ],
      "metadata": {
        "id": "zeiK2rAJUOtE"
      }
    },
    {
      "cell_type": "code",
      "source": [
        "import torch\n",
        "import datetime\n",
        "from matplotlib.pyplot import imshow, imsave\n",
        "import torch.nn as nn\n",
        "import torch.nn.functional as F\n",
        "from torchvision.utils import save_image\n",
        "from torchvision import transforms\n",
        "from torch.utils.data import DataLoader\n",
        "from torch.utils.data.dataset import Dataset\n",
        "from PIL import Image"
      ],
      "metadata": {
        "id": "ZIvGOOjTTwL2"
      },
      "execution_count": null,
      "outputs": []
    },
    {
      "cell_type": "markdown",
      "source": [
        "# **Importing the python function files**"
      ],
      "metadata": {
        "id": "uKLJMb7nUeMi"
      }
    },
    {
      "cell_type": "code",
      "source": [
        "from modelDCGAN import Discriminator, Generator\n",
        "from dataloader import CARS"
      ],
      "metadata": {
        "id": "9minae5BUdIV"
      },
      "execution_count": null,
      "outputs": []
    },
    {
      "cell_type": "markdown",
      "source": [
        "# Model configuration"
      ],
      "metadata": {
        "id": "h2bGFI9OWJCh"
      }
    },
    {
      "cell_type": "code",
      "source": [
        "MODEL_NAME = 'DCGAN'\n",
        "DEVICE = torch.device(\"cuda:0\" if torch.cuda.is_available() else \"cpu\")"
      ],
      "metadata": {
        "id": "G-8O50i0UtKb"
      },
      "execution_count": null,
      "outputs": []
    },
    {
      "cell_type": "code",
      "source": [
        "IMAGE_DIM = (32, 32, 3)\n",
        "def get_sample_image(G, n_noise):\n",
        "    \"\"\"\n",
        "        save sample 100 images\n",
        "    \"\"\"\n",
        "    z = torch.randn(10, n_noise).to(DEVICE)\n",
        "    y_hat = G(z).view(10, 3, 32, 32).permute(0, 2, 3, 1) # (100, 28, 28)\n",
        "    result = (y_hat.detach().cpu().numpy()+1)/2.\n",
        "    return result\n",
        "\n",
        "\n",
        "# Initialize models\n",
        "D = Discriminator(in_channel=IMAGE_DIM[-1]).to(DEVICE)#Load discriminator\n",
        "G = Generator(out_channel=IMAGE_DIM[-1]).to(DEVICE)# Load generator\n",
        "\n",
        "# Other code snippets for training\n",
        "transform = transforms.Compose([transforms.Resize((IMAGE_DIM[0], IMAGE_DIM[1])),\n",
        "                                transforms.ToTensor(),\n",
        "                                transforms.Normalize(mean=(0.5, 0.5, 0.5), std=(0.5, 0.5, 0.5))])"
      ],
      "metadata": {
        "id": "M4oc0agbVS8L"
      },
      "execution_count": null,
      "outputs": []
    },
    {
      "cell_type": "code",
      "source": [
        "dataset = CARS(data_path='Dataset/archive/cars_train/cars_train', transform=transform)#Load images\n",
        "\n",
        "batch_size = 64\n",
        "\n",
        "\n",
        "data_loader = DataLoader(dataset=dataset, batch_size=batch_size, shuffle=True, drop_last=True, num_workers=8)\n",
        "\n",
        "\n",
        "criterion = nn.BCELoss()\n",
        "D_opt = torch.optim.Adam(D.parameters(), lr=0.001, betas=(0.5, 0.999))\n",
        "G_opt = torch.optim.Adam(G.parameters(), lr=0.001, betas=(0.5, 0.999))\n",
        "\n",
        "\n",
        "max_epoch = 100\n",
        "step = 0\n",
        "n_critic = 1 # for training more k steps about Discriminator\n",
        "n_noise = 100\n"
      ],
      "metadata": {
        "colab": {
          "base_uri": "https://localhost:8080/"
        },
        "id": "3GNJZ3Q0XB1f",
        "outputId": "070b3825-f0d0-49aa-fcdc-bd95cde9a45e"
      },
      "execution_count": null,
      "outputs": [
        {
          "output_type": "stream",
          "name": "stderr",
          "text": [
            "/usr/local/lib/python3.10/dist-packages/torch/utils/data/dataloader.py:560: UserWarning: This DataLoader will create 8 worker processes in total. Our suggested max number of worker in current system is 2, which is smaller than what this DataLoader is going to create. Please be aware that excessive worker creation might get DataLoader running slow or even freeze, lower the worker number to avoid potential slowness/freeze if necessary.\n",
            "  warnings.warn(_create_warning_msg(\n"
          ]
        }
      ]
    },
    {
      "cell_type": "code",
      "source": [
        "\n",
        "D_labels = torch.ones([batch_size, 1]).to(DEVICE) # Discriminator Label to real\n",
        "D_fakes = torch.zeros([batch_size, 1]).to(DEVICE) # Discriminator Label to fake"
      ],
      "metadata": {
        "id": "9mUudUiaXMzc"
      },
      "execution_count": null,
      "outputs": []
    },
    {
      "cell_type": "markdown",
      "source": [
        "# **Training the model**"
      ],
      "metadata": {
        "id": "yQ5qcVfKXmUe"
      }
    },
    {
      "cell_type": "code",
      "source": [
        "for epoch in range(max_epoch):\n",
        "    for idx, images in enumerate(data_loader):\n",
        "        # Training Discriminator\n",
        "        x = images.to(DEVICE)\n",
        "        x_outputs = D(x)\n",
        "        D_x_loss = criterion(x_outputs, D_labels)\n",
        "\n",
        "        z = torch.randn(batch_size, n_noise).to(DEVICE)\n",
        "        z_outputs = D(G(z))\n",
        "        D_z_loss = criterion(z_outputs, D_fakes)\n",
        "        D_loss = D_x_loss + D_z_loss\n",
        "\n",
        "        D.zero_grad()\n",
        "        D_loss.backward()\n",
        "        D_opt.step()\n",
        "\n",
        "        if step % n_critic == 0:\n",
        "            # Training Generator\n",
        "            z = torch.randn(batch_size, n_noise).to(DEVICE)\n",
        "            z_outputs = D(G(z))\n",
        "            G_loss = criterion(z_outputs, D_labels)\n",
        "\n",
        "            D.zero_grad()\n",
        "            G.zero_grad()\n",
        "            G_loss.backward()\n",
        "            G_opt.step()\n",
        "\n",
        "        if step % 500 == 0:\n",
        "            dt = datetime.datetime.now().strftime('%H:%M:%S')\n",
        "            print('Epoch: {}/{}, Step: {}, D Loss: {:.4f}, G Loss: {:.4f}, Time:{}'.format(epoch, max_epoch, step, D_loss.item(), G_loss.item(), dt))\n",
        "            G.eval()\n",
        "            img = get_sample_image(G, n_noise)\n",
        "            # create folder by right clicking in the file window and name the folder 'samples'\n",
        "            imsave('content/samples/{}_step{:05d}.jpg'.format(MODEL_NAME, step), img[0])\n",
        "            G.train()\n",
        "        step += 1"
      ],
      "metadata": {
        "colab": {
          "base_uri": "https://localhost:8080/"
        },
        "id": "X0_wV8QTXjzL",
        "outputId": "8a7b6b37-cefe-4553-a70e-8bdd1f5c928b"
      },
      "execution_count": null,
      "outputs": [
        {
          "output_type": "stream",
          "name": "stdout",
          "text": [
            "Epoch: 0/100, Step: 0, D Loss: 1.4001, G Loss: 0.8396, Time:07:49:37\n",
            "Epoch: 3/100, Step: 500, D Loss: 0.6704, G Loss: 1.4225, Time:07:54:49\n",
            "Epoch: 7/100, Step: 1000, D Loss: 0.5354, G Loss: 2.5682, Time:08:00:02\n",
            "Epoch: 11/100, Step: 1500, D Loss: 0.6198, G Loss: 2.6072, Time:08:05:12\n",
            "Epoch: 15/100, Step: 2000, D Loss: 0.5475, G Loss: 2.9984, Time:08:10:21\n",
            "Epoch: 19/100, Step: 2500, D Loss: 0.5733, G Loss: 2.5246, Time:08:15:31\n",
            "Epoch: 23/100, Step: 3000, D Loss: 1.1062, G Loss: 3.1924, Time:08:20:46\n",
            "Epoch: 27/100, Step: 3500, D Loss: 0.8687, G Loss: 3.1570, Time:08:25:52\n",
            "Epoch: 31/100, Step: 4000, D Loss: 0.9602, G Loss: 2.0037, Time:08:31:01\n",
            "Epoch: 35/100, Step: 4500, D Loss: 1.0253, G Loss: 3.2012, Time:08:36:14\n",
            "Epoch: 39/100, Step: 5000, D Loss: 1.7009, G Loss: 5.2752, Time:08:41:23\n",
            "Epoch: 43/100, Step: 5500, D Loss: 0.6786, G Loss: 1.6774, Time:08:46:32\n",
            "Epoch: 47/100, Step: 6000, D Loss: 0.5115, G Loss: 2.5447, Time:08:51:42\n",
            "Epoch: 51/100, Step: 6500, D Loss: 0.4908, G Loss: 5.1582, Time:08:56:46\n",
            "Epoch: 55/100, Step: 7000, D Loss: 0.4202, G Loss: 1.5389, Time:09:02:00\n",
            "Epoch: 59/100, Step: 7500, D Loss: 0.1955, G Loss: 2.1870, Time:09:07:08\n",
            "Epoch: 63/100, Step: 8000, D Loss: 0.2681, G Loss: 4.5196, Time:09:12:17\n",
            "Epoch: 67/100, Step: 8500, D Loss: 0.9928, G Loss: 1.4692, Time:09:17:26\n",
            "Epoch: 71/100, Step: 9000, D Loss: 0.6645, G Loss: 4.6820, Time:09:22:38\n",
            "Epoch: 75/100, Step: 9500, D Loss: 0.6589, G Loss: 6.3869, Time:09:27:50\n",
            "Epoch: 79/100, Step: 10000, D Loss: 0.2736, G Loss: 2.0576, Time:09:32:56\n",
            "Epoch: 83/100, Step: 10500, D Loss: 0.1519, G Loss: 6.9467, Time:09:38:14\n",
            "Epoch: 87/100, Step: 11000, D Loss: 0.2674, G Loss: 5.3946, Time:09:43:35\n",
            "Epoch: 91/100, Step: 11500, D Loss: 0.1912, G Loss: 6.1252, Time:09:49:05\n",
            "Epoch: 95/100, Step: 12000, D Loss: 0.1424, G Loss: 5.0591, Time:09:54:15\n",
            "Epoch: 99/100, Step: 12500, D Loss: 0.5393, G Loss: 5.4738, Time:09:59:28\n"
          ]
        }
      ]
    },
    {
      "cell_type": "markdown",
      "source": [
        "# **Evaluating results**"
      ],
      "metadata": {
        "id": "1H49IGoA2cWy"
      }
    },
    {
      "cell_type": "code",
      "source": [
        "G.eval()\n",
        "imshow(get_sample_image(G, n_noise)[3]) #Generator image"
      ],
      "metadata": {
        "colab": {
          "base_uri": "https://localhost:8080/",
          "height": 447
        },
        "id": "6err59_AXxRK",
        "outputId": "2f482123-2e84-4ede-d3c2-6d11c0505114"
      },
      "execution_count": null,
      "outputs": [
        {
          "output_type": "execute_result",
          "data": {
            "text/plain": [
              "<matplotlib.image.AxesImage at 0x7c0ca3d8ed40>"
            ]
          },
          "metadata": {},
          "execution_count": 32
        },
        {
          "output_type": "display_data",
          "data": {
            "text/plain": [
              "<Figure size 640x480 with 1 Axes>"
            ],
            "image/png": "[encoded data removed]"
          },
          "metadata": {}
        }
      ]
    },
    {
      "cell_type": "code",
      "source": [
        "t = Image.open(dataset.fpaths[876])#random sample image from dataset\n",
        "t = (transform(t).permute(1, 2, 0)+1)/2.\n",
        "imshow(t)\n"
      ],
      "metadata": {
        "colab": {
          "base_uri": "https://localhost:8080/",
          "height": 447
        },
        "id": "RNd2q3h42f9W",
        "outputId": "aa2caf9f-f6a1-42ee-c207-e0245dc99d24"
      },
      "execution_count": null,
      "outputs": [
        {
          "output_type": "execute_result",
          "data": {
            "text/plain": [
              "<matplotlib.image.AxesImage at 0x7c0ca3cb8940>"
            ]
          },
          "metadata": {},
          "execution_count": 34
        },
        {
          "output_type": "display_data",
          "data": {
            "text/plain": [
              "<Figure size 640x480 with 1 Axes>"
            ],
            "image/png": "[encoded data removed]"
          },
          "metadata": {}
        }
      ]
    },
    {
      "cell_type": "code",
      "source": [],
      "metadata": {
        "id": "6nk5wZ7R3eUA"
      },
      "execution_count": null,
      "outputs": []
    }
  ]
}